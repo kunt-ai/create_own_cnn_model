{
 "cells": [
  {
   "cell_type": "code",
   "execution_count": 2,
   "metadata": {},
   "outputs": [],
   "source": [
    "from keras.models import load_model\n",
    "import cv2\n",
    "import numpy as np\n",
    "import seaborn as sns\n",
    "from keras.preprocessing.image import load_img, img_to_array\n",
    "import matplotlib.pyplot as plt\n",
    "import os\n",
    "from PIL import ImageFile\n",
    "ImageFile.LOAD_TRUNCATED_IMAGES = True\n",
    "from keras.preprocessing.image import ImageDataGenerator\n",
    "from keras.layers import Dense, Input, Dropout, GlobalAveragePooling2D, Flatten, Conv2D, BatchNormalization, Activation, MaxPooling2D\n",
    "from keras.models import Model, Sequential\n",
    "from keras.optimizers import Adam\n",
    "from keras.callbacks import ModelCheckpoint\n",
    "import matplotlib.pyplot as plt\n",
    "from sklearn.metrics import confusion_matrix\n",
    "import itertools\n",
    "\n"
   ]
  },
  {
   "cell_type": "code",
   "execution_count": 3,
   "metadata": {},
   "outputs": [
    {
     "name": "stdout",
     "output_type": "stream",
     "text": [
      "WARNING:tensorflow:From /home/jose/.local/lib/python2.7/site-packages/tensorflow/python/framework/op_def_library.py:263: colocate_with (from tensorflow.python.framework.ops) is deprecated and will be removed in a future version.\n",
      "Instructions for updating:\n",
      "Colocations handled automatically by placer.\n",
      "WARNING:tensorflow:From /usr/local/lib/python2.7/dist-packages/keras/backend/tensorflow_backend.py:3445: calling dropout (from tensorflow.python.ops.nn_ops) with keep_prob is deprecated and will be removed in a future version.\n",
      "Instructions for updating:\n",
      "Please use `rate` instead of `keep_prob`. Rate should be set to `rate = 1 - keep_prob`.\n",
      "WARNING:tensorflow:From /home/jose/.local/lib/python2.7/site-packages/tensorflow/python/ops/math_ops.py:3066: to_int32 (from tensorflow.python.ops.math_ops) is deprecated and will be removed in a future version.\n",
      "Instructions for updating:\n",
      "Use tf.cast instead.\n"
     ]
    }
   ],
   "source": [
    "base_path = \"/home/jose/Masaüstü/ship_dataset_6500_1625_yacht_tanker/\"\n",
    "pic_size = 64\n",
    "batch_size = 128\n",
    "\n",
    "model = load_model('thesis_first_model_weights.h5')\n",
    "\n",
    "model.compile(loss='binary_crossentropy',\n",
    "              optimizer='rmsprop',\n",
    "              metrics=['accuracy'])"
   ]
  },
  {
   "cell_type": "code",
   "execution_count": 4,
   "metadata": {},
   "outputs": [],
   "source": [
    "def getKeysByValue(dictOfElements, valueToFind):\n",
    "    listOfKeys = list()\n",
    "    listOfItems = dictOfElements.items()\n",
    "    for item  in listOfItems:\n",
    "        if item[1] == valueToFind:\n",
    "            listOfKeys.append(item[0])\n",
    "    return  listOfKeys"
   ]
  },
  {
   "cell_type": "code",
   "execution_count": 20,
   "metadata": {},
   "outputs": [
    {
     "name": "stdout",
     "output_type": "stream",
     "text": [
      "{'military': 3, 'tanker': 4, 'container': 0, 'fishing': 2, 'cruise': 1}\n",
      "[[ 0.  1.]]\n",
      "1.0\n",
      "1\n",
      "cruise\n"
     ]
    }
   ],
   "source": [
    "import cv2\n",
    "import operator\n",
    "\n",
    "predict_image_path = '/home/jose/Masaüstü/tanker.jpeg'\n",
    "\n",
    "img = cv2.imread(predict_image_path)\n",
    "img = np.random.randint(0,10,(pic_size,pic_size,1))\n",
    "img.shape\n",
    "img = np.expand_dims(img, axis=0)\n",
    "img.shape\n",
    "\n",
    "predict = model.predict(img)\n",
    "predicted_class_indices = {'container': 0, 'cruise': 1, 'fishing': 2, 'military': 3, 'tanker': 4}\n",
    "print(predicted_class_indices)\n",
    "print(predict)\n",
    "\n",
    "index, value = max(enumerate(predict), key=operator.itemgetter(1))\n",
    "print(max(value))\n",
    "\n",
    "max_predict = predict.argmax(axis=1)[0]\n",
    "print(max_predict)\n",
    "\n",
    "\n",
    "\n",
    "print(getKeysByValue(predicted_class_indices, max_predict)[0])\n"
   ]
  },
  {
   "cell_type": "code",
   "execution_count": 21,
   "metadata": {},
   "outputs": [],
   "source": [
    "import cv2"
   ]
  },
  {
   "cell_type": "code",
   "execution_count": 22,
   "metadata": {},
   "outputs": [],
   "source": [
    "orig = cv2.imread(predict_image_path, 0)"
   ]
  },
  {
   "cell_type": "code",
   "execution_count": 23,
   "metadata": {},
   "outputs": [],
   "source": [
    "cv2.putText(orig, \"Predicted: {}({:.2f})%\".format(getKeysByValue(predicted_class_indices, max_predict)[0], max(value) *100), (10, 30),\n",
    "                cv2.FONT_HERSHEY_PLAIN, 1.5, (43, 99, 255), 2)\n",
    "\n",
    "cv2.imshow(\"Classification\", orig)\n",
    "cv2.waitKey(10000)\n",
    "cv2.destroyAllWindows()"
   ]
  },
  {
   "cell_type": "code",
   "execution_count": null,
   "metadata": {},
   "outputs": [],
   "source": []
  }
 ],
 "metadata": {
  "kernelspec": {
   "display_name": "Python 3",
   "language": "python",
   "name": "python3"
  },
  "language_info": {
   "codemirror_mode": {
    "name": "ipython",
    "version": 3
   },
   "file_extension": ".py",
   "mimetype": "text/x-python",
   "name": "python",
   "nbconvert_exporter": "python",
   "pygments_lexer": "ipython3",
   "version": "3.7.3"
  }
 },
 "nbformat": 4,
 "nbformat_minor": 2
}
