{
 "cells": [
  {
   "cell_type": "code",
   "execution_count": 3,
   "metadata": {},
   "outputs": [
    {
     "name": "stderr",
     "output_type": "stream",
     "text": [
      "Using TensorFlow backend.\n"
     ]
    },
    {
     "data": {
      "text/plain": [
       "'2.2.4'"
      ]
     },
     "execution_count": 3,
     "metadata": {},
     "output_type": "execute_result"
    }
   ],
   "source": [
    "import keras\n",
    "from PIL import ImageFile\n",
    "ImageFile.LOAD_TRUNCATED_IMAGES = True\n",
    "keras.__version__"
   ]
  },
  {
   "cell_type": "code",
   "execution_count": 4,
   "metadata": {},
   "outputs": [
    {
     "name": "stderr",
     "output_type": "stream",
     "text": [
      "WARNING: Logging before flag parsing goes to stderr.\n",
      "W0705 08:09:50.324591 140577428494144 deprecation_wrapper.py:119] From /usr/local/lib/python3.6/dist-packages/keras/backend/tensorflow_backend.py:74: The name tf.get_default_graph is deprecated. Please use tf.compat.v1.get_default_graph instead.\n",
      "\n",
      "W0705 08:09:50.757723 140577428494144 deprecation_wrapper.py:119] From /usr/local/lib/python3.6/dist-packages/keras/backend/tensorflow_backend.py:517: The name tf.placeholder is deprecated. Please use tf.compat.v1.placeholder instead.\n",
      "\n",
      "W0705 08:09:50.810677 140577428494144 deprecation_wrapper.py:119] From /usr/local/lib/python3.6/dist-packages/keras/backend/tensorflow_backend.py:4138: The name tf.random_uniform is deprecated. Please use tf.random.uniform instead.\n",
      "\n",
      "W0705 08:09:50.901830 140577428494144 deprecation_wrapper.py:119] From /usr/local/lib/python3.6/dist-packages/keras/backend/tensorflow_backend.py:3976: The name tf.nn.max_pool is deprecated. Please use tf.nn.max_pool2d instead.\n",
      "\n",
      "W0705 08:09:51.932624 140577428494144 deprecation_wrapper.py:119] From /usr/local/lib/python3.6/dist-packages/keras/backend/tensorflow_backend.py:174: The name tf.get_default_session is deprecated. Please use tf.compat.v1.get_default_session instead.\n",
      "\n",
      "W0705 08:09:51.933504 140577428494144 deprecation_wrapper.py:119] From /usr/local/lib/python3.6/dist-packages/keras/backend/tensorflow_backend.py:181: The name tf.ConfigProto is deprecated. Please use tf.compat.v1.ConfigProto instead.\n",
      "\n"
     ]
    }
   ],
   "source": [
    "from keras.applications import VGG16\n",
    "\n",
    "conv_base = VGG16(weights='imagenet',\n",
    "                  include_top=False,\n",
    "                  input_shape=(150, 150, 3))"
   ]
  },
  {
   "cell_type": "code",
   "execution_count": 5,
   "metadata": {
    "scrolled": true
   },
   "outputs": [
    {
     "name": "stdout",
     "output_type": "stream",
     "text": [
      "_________________________________________________________________\n",
      "Layer (type)                 Output Shape              Param #   \n",
      "=================================================================\n",
      "input_1 (InputLayer)         (None, 150, 150, 3)       0         \n",
      "_________________________________________________________________\n",
      "block1_conv1 (Conv2D)        (None, 150, 150, 64)      1792      \n",
      "_________________________________________________________________\n",
      "block1_conv2 (Conv2D)        (None, 150, 150, 64)      36928     \n",
      "_________________________________________________________________\n",
      "block1_pool (MaxPooling2D)   (None, 75, 75, 64)        0         \n",
      "_________________________________________________________________\n",
      "block2_conv1 (Conv2D)        (None, 75, 75, 128)       73856     \n",
      "_________________________________________________________________\n",
      "block2_conv2 (Conv2D)        (None, 75, 75, 128)       147584    \n",
      "_________________________________________________________________\n",
      "block2_pool (MaxPooling2D)   (None, 37, 37, 128)       0         \n",
      "_________________________________________________________________\n",
      "block3_conv1 (Conv2D)        (None, 37, 37, 256)       295168    \n",
      "_________________________________________________________________\n",
      "block3_conv2 (Conv2D)        (None, 37, 37, 256)       590080    \n",
      "_________________________________________________________________\n",
      "block3_conv3 (Conv2D)        (None, 37, 37, 256)       590080    \n",
      "_________________________________________________________________\n",
      "block3_pool (MaxPooling2D)   (None, 18, 18, 256)       0         \n",
      "_________________________________________________________________\n",
      "block4_conv1 (Conv2D)        (None, 18, 18, 512)       1180160   \n",
      "_________________________________________________________________\n",
      "block4_conv2 (Conv2D)        (None, 18, 18, 512)       2359808   \n",
      "_________________________________________________________________\n",
      "block4_conv3 (Conv2D)        (None, 18, 18, 512)       2359808   \n",
      "_________________________________________________________________\n",
      "block4_pool (MaxPooling2D)   (None, 9, 9, 512)         0         \n",
      "_________________________________________________________________\n",
      "block5_conv1 (Conv2D)        (None, 9, 9, 512)         2359808   \n",
      "_________________________________________________________________\n",
      "block5_conv2 (Conv2D)        (None, 9, 9, 512)         2359808   \n",
      "_________________________________________________________________\n",
      "block5_conv3 (Conv2D)        (None, 9, 9, 512)         2359808   \n",
      "_________________________________________________________________\n",
      "block5_pool (MaxPooling2D)   (None, 4, 4, 512)         0         \n",
      "=================================================================\n",
      "Total params: 14,714,688\n",
      "Trainable params: 14,714,688\n",
      "Non-trainable params: 0\n",
      "_________________________________________________________________\n"
     ]
    }
   ],
   "source": [
    "conv_base.summary()"
   ]
  },
  {
   "cell_type": "code",
   "execution_count": 6,
   "metadata": {},
   "outputs": [],
   "source": [
    "import os\n",
    "import numpy as np\n",
    "from keras.preprocessing.image import ImageDataGenerator"
   ]
  },
  {
   "cell_type": "code",
   "execution_count": 7,
   "metadata": {},
   "outputs": [],
   "source": [
    "base_dir = '/home/jose/Desktop/ship_dataset_6500_1000_625_yacht_tanker'"
   ]
  },
  {
   "cell_type": "code",
   "execution_count": 8,
   "metadata": {},
   "outputs": [],
   "source": [
    "train_dir = os.path.join(base_dir, 'train')\n",
    "validation_dir = os.path.join(base_dir, 'validation')\n",
    "test_dir = os.path.join(base_dir, 'test')"
   ]
  },
  {
   "cell_type": "code",
   "execution_count": 9,
   "metadata": {},
   "outputs": [],
   "source": [
    "datagen = ImageDataGenerator(rescale=1./255)\n",
    "batch_size = 20"
   ]
  },
  {
   "cell_type": "code",
   "execution_count": 10,
   "metadata": {},
   "outputs": [],
   "source": [
    "def extract_features(directory, sample_count):\n",
    "    features = np.zeros(shape=(sample_count, 4, 4, 512))\n",
    "    labels = np.zeros(shape=(sample_count))\n",
    "    generator = datagen.flow_from_directory(\n",
    "        directory,\n",
    "        target_size=(150, 150),\n",
    "        batch_size=batch_size,\n",
    "        class_mode='binary')\n",
    "    i = 0\n",
    "    for inputs_batch, labels_batch in generator:\n",
    "        features_batch = conv_base.predict(inputs_batch)\n",
    "        features[i * batch_size : (i + 1) * batch_size] = features_batch\n",
    "        labels[i * batch_size : (i + 1) * batch_size] = labels_batch\n",
    "        i += 1\n",
    "        if i * batch_size >= sample_count:\n",
    "            # Note that since generators yield data indefinitely in a loop,\n",
    "            # we must `break` after every image has been seen once.\n",
    "            break\n",
    "    return features, labels"
   ]
  },
  {
   "cell_type": "code",
   "execution_count": 11,
   "metadata": {},
   "outputs": [
    {
     "name": "stdout",
     "output_type": "stream",
     "text": [
      "Found 13000 images belonging to 2 classes.\n"
     ]
    }
   ],
   "source": [
    "train_features, train_labels = extract_features(train_dir, 6500)"
   ]
  },
  {
   "cell_type": "code",
   "execution_count": 12,
   "metadata": {},
   "outputs": [
    {
     "name": "stdout",
     "output_type": "stream",
     "text": [
      "Found 2000 images belonging to 2 classes.\n"
     ]
    }
   ],
   "source": [
    "validation_features, validation_labels = extract_features(validation_dir, 1000)"
   ]
  },
  {
   "cell_type": "code",
   "execution_count": 16,
   "metadata": {},
   "outputs": [
    {
     "name": "stdout",
     "output_type": "stream",
     "text": [
      "Found 2000 images belonging to 2 classes.\n"
     ]
    }
   ],
   "source": [
    "test_features, test_labels = extract_features(test_dir, 1000)"
   ]
  },
  {
   "cell_type": "code",
   "execution_count": 17,
   "metadata": {},
   "outputs": [],
   "source": [
    "train_features = np.reshape(train_features, (6500, 4 * 4 * 512))"
   ]
  },
  {
   "cell_type": "code",
   "execution_count": 18,
   "metadata": {},
   "outputs": [],
   "source": [
    "validation_features = np.reshape(validation_features, (1000, 4 * 4 * 512))"
   ]
  },
  {
   "cell_type": "code",
   "execution_count": 19,
   "metadata": {},
   "outputs": [],
   "source": [
    "test_features = np.reshape(test_features, (1000, 4 * 4 * 512))"
   ]
  },
  {
   "cell_type": "code",
   "execution_count": 20,
   "metadata": {},
   "outputs": [],
   "source": [
    "from keras import models\n",
    "from keras import layers\n",
    "from keras import optimizers"
   ]
  },
  {
   "cell_type": "code",
   "execution_count": 21,
   "metadata": {},
   "outputs": [
    {
     "name": "stderr",
     "output_type": "stream",
     "text": [
      "W0705 08:35:15.547384 140577428494144 deprecation.py:506] From /usr/local/lib/python3.6/dist-packages/keras/backend/tensorflow_backend.py:3445: calling dropout (from tensorflow.python.ops.nn_ops) with keep_prob is deprecated and will be removed in a future version.\n",
      "Instructions for updating:\n",
      "Please use `rate` instead of `keep_prob`. Rate should be set to `rate = 1 - keep_prob`.\n"
     ]
    }
   ],
   "source": [
    "model = models.Sequential()\n",
    "model.add(layers.Dense(256, activation='relu', input_dim=4 * 4 * 512))\n",
    "model.add(layers.Dropout(0.5))\n",
    "model.add(layers.Dense(1, activation='sigmoid'))"
   ]
  },
  {
   "cell_type": "code",
   "execution_count": 22,
   "metadata": {},
   "outputs": [
    {
     "name": "stderr",
     "output_type": "stream",
     "text": [
      "W0705 08:35:25.421784 140577428494144 deprecation_wrapper.py:119] From /usr/local/lib/python3.6/dist-packages/keras/optimizers.py:790: The name tf.train.Optimizer is deprecated. Please use tf.compat.v1.train.Optimizer instead.\n",
      "\n",
      "W0705 08:35:25.430860 140577428494144 deprecation.py:323] From /usr/local/lib/python3.6/dist-packages/tensorflow/python/ops/nn_impl.py:180: add_dispatch_support.<locals>.wrapper (from tensorflow.python.ops.array_ops) is deprecated and will be removed in a future version.\n",
      "Instructions for updating:\n",
      "Use tf.where in 2.0, which has the same broadcast rule as np.where\n"
     ]
    }
   ],
   "source": [
    "model.compile(optimizer=optimizers.RMSprop(lr=2e-5),\n",
    "              loss='binary_crossentropy',\n",
    "              metrics=['acc'])"
   ]
  },
  {
   "cell_type": "code",
   "execution_count": 21,
   "metadata": {},
   "outputs": [
    {
     "name": "stdout",
     "output_type": "stream",
     "text": [
      "Train on 6500 samples, validate on 1000 samples\n",
      "Epoch 1/30\n",
      "6500/6500 [==============================] - 10s 2ms/step - loss: 0.3691 - acc: 0.8369 - val_loss: 0.2222 - val_acc: 0.9270\n",
      "Epoch 2/30\n",
      "6500/6500 [==============================] - 9s 1ms/step - loss: 0.2039 - acc: 0.9232 - val_loss: 0.1728 - val_acc: 0.9400\n",
      "Epoch 3/30\n",
      "6500/6500 [==============================] - 9s 1ms/step - loss: 0.1641 - acc: 0.9389 - val_loss: 0.1563 - val_acc: 0.9500\n",
      "Epoch 4/30\n",
      "6500/6500 [==============================] - 9s 1ms/step - loss: 0.1470 - acc: 0.9432 - val_loss: 0.1480 - val_acc: 0.9490\n",
      "Epoch 5/30\n",
      "6500/6500 [==============================] - 9s 1ms/step - loss: 0.1365 - acc: 0.9489 - val_loss: 0.1425 - val_acc: 0.9520\n",
      "Epoch 6/30\n",
      "6500/6500 [==============================] - 9s 1ms/step - loss: 0.1294 - acc: 0.9512 - val_loss: 0.1343 - val_acc: 0.9530\n",
      "Epoch 7/30\n",
      "6500/6500 [==============================] - 9s 1ms/step - loss: 0.1191 - acc: 0.9549 - val_loss: 0.1341 - val_acc: 0.9550\n",
      "Epoch 8/30\n",
      "6500/6500 [==============================] - 9s 1ms/step - loss: 0.1122 - acc: 0.9572 - val_loss: 0.1297 - val_acc: 0.9560\n",
      "Epoch 9/30\n",
      "6500/6500 [==============================] - 9s 1ms/step - loss: 0.1112 - acc: 0.9582 - val_loss: 0.1299 - val_acc: 0.9560\n",
      "Epoch 10/30\n",
      "6500/6500 [==============================] - 9s 1ms/step - loss: 0.1048 - acc: 0.9625 - val_loss: 0.1271 - val_acc: 0.9580\n",
      "Epoch 11/30\n",
      "6500/6500 [==============================] - 9s 1ms/step - loss: 0.1036 - acc: 0.9625 - val_loss: 0.1266 - val_acc: 0.9590\n",
      "Epoch 12/30\n",
      "6500/6500 [==============================] - 9s 1ms/step - loss: 0.0970 - acc: 0.9660 - val_loss: 0.1264 - val_acc: 0.9590\n",
      "Epoch 13/30\n",
      "6500/6500 [==============================] - 9s 1ms/step - loss: 0.0958 - acc: 0.9671 - val_loss: 0.1232 - val_acc: 0.9570\n",
      "Epoch 14/30\n",
      "6500/6500 [==============================] - 9s 1ms/step - loss: 0.0923 - acc: 0.9674 - val_loss: 0.1222 - val_acc: 0.9590\n",
      "Epoch 15/30\n",
      "6500/6500 [==============================] - 9s 1ms/step - loss: 0.0882 - acc: 0.9682 - val_loss: 0.1224 - val_acc: 0.9590\n",
      "Epoch 16/30\n",
      "6500/6500 [==============================] - 9s 1ms/step - loss: 0.0880 - acc: 0.9697 - val_loss: 0.1219 - val_acc: 0.9620\n",
      "Epoch 17/30\n",
      "6500/6500 [==============================] - 9s 1ms/step - loss: 0.0854 - acc: 0.9705 - val_loss: 0.1206 - val_acc: 0.9600\n",
      "Epoch 18/30\n",
      "6500/6500 [==============================] - 9s 1ms/step - loss: 0.0824 - acc: 0.9709 - val_loss: 0.1215 - val_acc: 0.9610\n",
      "Epoch 19/30\n",
      "6500/6500 [==============================] - 9s 1ms/step - loss: 0.0802 - acc: 0.9718 - val_loss: 0.1217 - val_acc: 0.9610\n",
      "Epoch 20/30\n",
      "6500/6500 [==============================] - 9s 1ms/step - loss: 0.0794 - acc: 0.9720 - val_loss: 0.1241 - val_acc: 0.9580\n",
      "Epoch 21/30\n",
      "6500/6500 [==============================] - 9s 1ms/step - loss: 0.0780 - acc: 0.9748 - val_loss: 0.1228 - val_acc: 0.9630\n",
      "Epoch 22/30\n",
      "6500/6500 [==============================] - 9s 1ms/step - loss: 0.0753 - acc: 0.9734 - val_loss: 0.1219 - val_acc: 0.9640\n",
      "Epoch 23/30\n",
      "6500/6500 [==============================] - 9s 1ms/step - loss: 0.0730 - acc: 0.9743 - val_loss: 0.1229 - val_acc: 0.9590\n",
      "Epoch 24/30\n",
      "6500/6500 [==============================] - 9s 1ms/step - loss: 0.0718 - acc: 0.9765 - val_loss: 0.1201 - val_acc: 0.9620\n",
      "Epoch 25/30\n",
      "6500/6500 [==============================] - 9s 1ms/step - loss: 0.0706 - acc: 0.9755 - val_loss: 0.1221 - val_acc: 0.9580\n",
      "Epoch 26/30\n",
      "6500/6500 [==============================] - 9s 1ms/step - loss: 0.0711 - acc: 0.9755 - val_loss: 0.1205 - val_acc: 0.9630\n",
      "Epoch 27/30\n",
      "6500/6500 [==============================] - 9s 1ms/step - loss: 0.0677 - acc: 0.9797 - val_loss: 0.1247 - val_acc: 0.9620\n",
      "Epoch 28/30\n",
      "6500/6500 [==============================] - 9s 1ms/step - loss: 0.0662 - acc: 0.9785 - val_loss: 0.1236 - val_acc: 0.9630\n",
      "Epoch 29/30\n",
      "6500/6500 [==============================] - 9s 1ms/step - loss: 0.0651 - acc: 0.9792 - val_loss: 0.1212 - val_acc: 0.9640\n",
      "Epoch 30/30\n",
      "6500/6500 [==============================] - 9s 1ms/step - loss: 0.0627 - acc: 0.9809 - val_loss: 0.1220 - val_acc: 0.9610\n"
     ]
    }
   ],
   "source": [
    "history = model.fit(train_features, train_labels,\n",
    "                    epochs=30,\n",
    "                    batch_size=20,\n",
    "                    validation_data=(validation_features, validation_labels))"
   ]
  },
  {
   "cell_type": "code",
   "execution_count": 23,
   "metadata": {
    "scrolled": false
   },
   "outputs": [
    {
     "data": {
      "image/png": "[encoded data removed]",
      "text/plain": [
       "<Figure size 432x288 with 1 Axes>"
      ]
     },
     "metadata": {
      "needs_background": "light"
     },
     "output_type": "display_data"
    },
    {
     "data": {
      "image/png": "[encoded data removed]",
      "text/plain": [
       "<Figure size 432x288 with 1 Axes>"
      ]
     },
     "metadata": {
      "needs_background": "light"
     },
     "output_type": "display_data"
    }
   ],
   "source": [
    "import matplotlib.pyplot as plt\n",
    "\n",
    "acc = history.history['acc']\n",
    "val_acc = history.history['val_acc']\n",
    "loss = history.history['loss']\n",
    "val_loss = history.history['val_loss']\n",
    "\n",
    "epochs = range(len(acc))\n",
    "\n",
    "plt.plot(epochs, acc, 'bo', label='Training acc')\n",
    "plt.plot(epochs, val_acc, 'b', label='Validation acc')\n",
    "plt.title('Training and validation accuracy')\n",
    "plt.legend()\n",
    "\n",
    "plt.figure()\n",
    "\n",
    "plt.plot(epochs, loss, 'bo', label='Training loss')\n",
    "plt.plot(epochs, val_loss, 'b', label='Validation loss')\n",
    "plt.title('Training and validation loss')\n",
    "plt.legend()\n",
    "\n",
    "plt.show()"
   ]
  },
  {
   "cell_type": "markdown",
   "metadata": {},
   "source": [
    "# Feature extraction start"
   ]
  },
  {
   "cell_type": "code",
   "execution_count": 23,
   "metadata": {},
   "outputs": [],
   "source": [
    "from keras import models\n",
    "from keras import layers"
   ]
  },
  {
   "cell_type": "code",
   "execution_count": 24,
   "metadata": {},
   "outputs": [],
   "source": [
    "model = models.Sequential()\n",
    "model.add(conv_base)\n",
    "model.add(layers.Flatten())\n",
    "model.add(layers.Dense(256, activation='relu'))\n",
    "model.add(layers.Dense(1, activation='sigmoid'))"
   ]
  },
  {
   "cell_type": "code",
   "execution_count": 26,
   "metadata": {},
   "outputs": [
    {
     "name": "stdout",
     "output_type": "stream",
     "text": [
      "_________________________________________________________________\n",
      "Layer (type)                 Output Shape              Param #   \n",
      "=================================================================\n",
      "vgg16 (Model)                (None, 4, 4, 512)         14714688  \n",
      "_________________________________________________________________\n",
      "flatten_1 (Flatten)          (None, 8192)              0         \n",
      "_________________________________________________________________\n",
      "dense_3 (Dense)              (None, 256)               2097408   \n",
      "_________________________________________________________________\n",
      "dense_4 (Dense)              (None, 1)                 257       \n",
      "=================================================================\n",
      "Total params: 16,812,353\n",
      "Trainable params: 16,812,353\n",
      "Non-trainable params: 0\n",
      "_________________________________________________________________\n"
     ]
    }
   ],
   "source": [
    "model.summary()"
   ]
  },
  {
   "cell_type": "code",
   "execution_count": 25,
   "metadata": {},
   "outputs": [],
   "source": [
    "conv_base.trainable = False"
   ]
  },
  {
   "cell_type": "code",
   "execution_count": 26,
   "metadata": {},
   "outputs": [],
   "source": [
    "from keras.preprocessing.image import ImageDataGenerator"
   ]
  },
  {
   "cell_type": "code",
   "execution_count": 27,
   "metadata": {},
   "outputs": [],
   "source": [
    "train_datagen = ImageDataGenerator(\n",
    "      rescale=1./255,\n",
    "      rotation_range=40,\n",
    "      width_shift_range=0.2,\n",
    "      height_shift_range=0.2,\n",
    "      shear_range=0.2,\n",
    "      zoom_range=0.2,\n",
    "      horizontal_flip=True,\n",
    "      fill_mode='nearest')"
   ]
  },
  {
   "cell_type": "code",
   "execution_count": 28,
   "metadata": {},
   "outputs": [],
   "source": [
    "# Note that the validation data should not be augmented!\n",
    "test_datagen = ImageDataGenerator(rescale=1./255)\n"
   ]
  },
  {
   "cell_type": "code",
   "execution_count": 29,
   "metadata": {},
   "outputs": [
    {
     "name": "stdout",
     "output_type": "stream",
     "text": [
      "Found 13000 images belonging to 2 classes.\n"
     ]
    }
   ],
   "source": [
    "train_generator = train_datagen.flow_from_directory(\n",
    "        # This is the target directory\n",
    "        train_dir,\n",
    "        # All images will be resized to 150x150\n",
    "        target_size=(150, 150),\n",
    "        batch_size=20,\n",
    "        # Since we use binary_crossentropy loss, we need binary labels\n",
    "        class_mode='binary')"
   ]
  },
  {
   "cell_type": "code",
   "execution_count": 30,
   "metadata": {},
   "outputs": [
    {
     "name": "stdout",
     "output_type": "stream",
     "text": [
      "Found 2000 images belonging to 2 classes.\n"
     ]
    }
   ],
   "source": [
    "validation_generator = test_datagen.flow_from_directory(\n",
    "        validation_dir,\n",
    "        target_size=(150, 150),\n",
    "        batch_size=20,\n",
    "        class_mode='binary')"
   ]
  },
  {
   "cell_type": "code",
   "execution_count": 31,
   "metadata": {},
   "outputs": [],
   "source": [
    "model.compile(loss='binary_crossentropy',\n",
    "              optimizer=optimizers.RMSprop(lr=2e-5),\n",
    "              metrics=['acc'])"
   ]
  },
  {
   "cell_type": "code",
   "execution_count": 34,
   "metadata": {},
   "outputs": [
    {
     "name": "stdout",
     "output_type": "stream",
     "text": [
      "Epoch 1/30\n",
      " - 239s - loss: 0.5350 - acc: 0.7550 - val_loss: 0.4140 - val_acc: 0.8320\n",
      "Epoch 2/30\n",
      " - 247s - loss: 0.4122 - acc: 0.8290 - val_loss: 0.3009 - val_acc: 0.9030\n",
      "Epoch 3/30\n",
      " - 246s - loss: 0.3593 - acc: 0.8550 - val_loss: 0.2581 - val_acc: 0.9040\n",
      "Epoch 4/30\n",
      " - 257s - loss: 0.3194 - acc: 0.8755 - val_loss: 0.2302 - val_acc: 0.9270\n",
      "Epoch 5/30\n",
      " - 248s - loss: 0.2926 - acc: 0.8875 - val_loss: 0.2449 - val_acc: 0.9000\n",
      "Epoch 6/30\n",
      " - 246s - loss: 0.2894 - acc: 0.8895 - val_loss: 0.2041 - val_acc: 0.9180\n",
      "Epoch 7/30\n",
      " - 249s - loss: 0.2868 - acc: 0.8840 - val_loss: 0.1894 - val_acc: 0.9360\n",
      "Epoch 8/30\n",
      " - 243s - loss: 0.2397 - acc: 0.9120 - val_loss: 0.1636 - val_acc: 0.9410\n",
      "Epoch 9/30\n",
      " - 243s - loss: 0.2401 - acc: 0.9075 - val_loss: 0.1798 - val_acc: 0.9330\n",
      "Epoch 10/30\n",
      " - 243s - loss: 0.2595 - acc: 0.8920 - val_loss: 0.1626 - val_acc: 0.9400\n",
      "Epoch 11/30\n",
      " - 247s - loss: 0.2443 - acc: 0.8990 - val_loss: 0.1867 - val_acc: 0.9240\n",
      "Epoch 12/30\n",
      " - 247s - loss: 0.2258 - acc: 0.9145 - val_loss: 0.1433 - val_acc: 0.9520\n",
      "Epoch 13/30\n",
      " - 241s - loss: 0.2232 - acc: 0.9090 - val_loss: 0.1519 - val_acc: 0.9470\n",
      "Epoch 14/30\n",
      " - 237s - loss: 0.2306 - acc: 0.9105 - val_loss: 0.1481 - val_acc: 0.9440\n",
      "Epoch 15/30\n",
      " - 237s - loss: 0.2185 - acc: 0.9155 - val_loss: 0.1490 - val_acc: 0.9440\n",
      "Epoch 16/30\n",
      " - 237s - loss: 0.2232 - acc: 0.9180 - val_loss: 0.1520 - val_acc: 0.9450\n",
      "Epoch 17/30\n",
      " - 239s - loss: 0.2198 - acc: 0.9100 - val_loss: 0.1511 - val_acc: 0.9450\n",
      "Epoch 18/30\n",
      " - 241s - loss: 0.2135 - acc: 0.9120 - val_loss: 0.1441 - val_acc: 0.9440\n",
      "Epoch 19/30\n",
      " - 225s - loss: 0.2213 - acc: 0.9205 - val_loss: 0.1463 - val_acc: 0.9480\n",
      "Epoch 20/30\n",
      " - 228s - loss: 0.2177 - acc: 0.9165 - val_loss: 0.1332 - val_acc: 0.9540\n",
      "Epoch 21/30\n",
      " - 223s - loss: 0.2048 - acc: 0.9260 - val_loss: 0.1310 - val_acc: 0.9480\n",
      "Epoch 22/30\n",
      " - 221s - loss: 0.1996 - acc: 0.9220 - val_loss: 0.1467 - val_acc: 0.9480\n",
      "Epoch 23/30\n",
      " - 219s - loss: 0.2166 - acc: 0.9190 - val_loss: 0.1680 - val_acc: 0.9400\n",
      "Epoch 24/30\n",
      " - 218s - loss: 0.1894 - acc: 0.9255 - val_loss: 0.1124 - val_acc: 0.9540\n",
      "Epoch 25/30\n",
      " - 219s - loss: 0.2163 - acc: 0.9145 - val_loss: 0.1418 - val_acc: 0.9480\n",
      "Epoch 26/30\n",
      " - 218s - loss: 0.2174 - acc: 0.9095 - val_loss: 0.1572 - val_acc: 0.9400\n",
      "Epoch 27/30\n",
      " - 216s - loss: 0.1998 - acc: 0.9285 - val_loss: 0.1530 - val_acc: 0.9450\n",
      "Epoch 28/30\n",
      " - 223s - loss: 0.2110 - acc: 0.9125 - val_loss: 0.1383 - val_acc: 0.9470\n",
      "Epoch 29/30\n",
      " - 230s - loss: 0.1925 - acc: 0.9230 - val_loss: 0.1681 - val_acc: 0.9320\n",
      "Epoch 30/30\n",
      " - 245s - loss: 0.1821 - acc: 0.9315 - val_loss: 0.1313 - val_acc: 0.9560\n"
     ]
    }
   ],
   "source": [
    "history = model.fit_generator(\n",
    "      train_generator,\n",
    "      steps_per_epoch=100,\n",
    "      epochs=30,\n",
    "      validation_data=validation_generator,\n",
    "      validation_steps=50,\n",
    "      verbose=2)"
   ]
  },
  {
   "cell_type": "code",
   "execution_count": 35,
   "metadata": {},
   "outputs": [],
   "source": [
    "model.save('yatch_tanker_feature_extraction_1.h5')"
   ]
  },
  {
   "cell_type": "code",
   "execution_count": 36,
   "metadata": {},
   "outputs": [
    {
     "data": {
      "image/png": "[encoded data removed]",
      "text/plain": [
       "<Figure size 432x288 with 1 Axes>"
      ]
     },
     "metadata": {
      "needs_background": "light"
     },
     "output_type": "display_data"
    },
    {
     "data": {
      "image/png": "[encoded data removed]",
      "text/plain": [
       "<Figure size 432x288 with 1 Axes>"
      ]
     },
     "metadata": {
      "needs_background": "light"
     },
     "output_type": "display_data"
    }
   ],
   "source": [
    "acc = history.history['acc']\n",
    "val_acc = history.history['val_acc']\n",
    "loss = history.history['loss']\n",
    "val_loss = history.history['val_loss']\n",
    "\n",
    "epochs = range(len(acc))\n",
    "\n",
    "plt.plot(epochs, acc, 'bo', label='Training acc')\n",
    "plt.plot(epochs, val_acc, 'b', label='Validation acc')\n",
    "plt.title('Training and validation accuracy')\n",
    "plt.legend()\n",
    "\n",
    "plt.figure()\n",
    "\n",
    "plt.plot(epochs, loss, 'bo', label='Training loss')\n",
    "plt.plot(epochs, val_loss, 'b', label='Validation loss')\n",
    "plt.title('Training and validation loss')\n",
    "plt.legend()\n",
    "\n",
    "plt.show()"
   ]
  },
  {
   "cell_type": "markdown",
   "metadata": {},
   "source": [
    "# Fine-tuning start"
   ]
  },
  {
   "cell_type": "code",
   "execution_count": 37,
   "metadata": {},
   "outputs": [
    {
     "name": "stdout",
     "output_type": "stream",
     "text": [
      "_________________________________________________________________\n",
      "Layer (type)                 Output Shape              Param #   \n",
      "=================================================================\n",
      "input_1 (InputLayer)         (None, 150, 150, 3)       0         \n",
      "_________________________________________________________________\n",
      "block1_conv1 (Conv2D)        (None, 150, 150, 64)      1792      \n",
      "_________________________________________________________________\n",
      "block1_conv2 (Conv2D)        (None, 150, 150, 64)      36928     \n",
      "_________________________________________________________________\n",
      "block1_pool (MaxPooling2D)   (None, 75, 75, 64)        0         \n",
      "_________________________________________________________________\n",
      "block2_conv1 (Conv2D)        (None, 75, 75, 128)       73856     \n",
      "_________________________________________________________________\n",
      "block2_conv2 (Conv2D)        (None, 75, 75, 128)       147584    \n",
      "_________________________________________________________________\n",
      "block2_pool (MaxPooling2D)   (None, 37, 37, 128)       0         \n",
      "_________________________________________________________________\n",
      "block3_conv1 (Conv2D)        (None, 37, 37, 256)       295168    \n",
      "_________________________________________________________________\n",
      "block3_conv2 (Conv2D)        (None, 37, 37, 256)       590080    \n",
      "_________________________________________________________________\n",
      "block3_conv3 (Conv2D)        (None, 37, 37, 256)       590080    \n",
      "_________________________________________________________________\n",
      "block3_pool (MaxPooling2D)   (None, 18, 18, 256)       0         \n",
      "_________________________________________________________________\n",
      "block4_conv1 (Conv2D)        (None, 18, 18, 512)       1180160   \n",
      "_________________________________________________________________\n",
      "block4_conv2 (Conv2D)        (None, 18, 18, 512)       2359808   \n",
      "_________________________________________________________________\n",
      "block4_conv3 (Conv2D)        (None, 18, 18, 512)       2359808   \n",
      "_________________________________________________________________\n",
      "block4_pool (MaxPooling2D)   (None, 9, 9, 512)         0         \n",
      "_________________________________________________________________\n",
      "block5_conv1 (Conv2D)        (None, 9, 9, 512)         2359808   \n",
      "_________________________________________________________________\n",
      "block5_conv2 (Conv2D)        (None, 9, 9, 512)         2359808   \n",
      "_________________________________________________________________\n",
      "block5_conv3 (Conv2D)        (None, 9, 9, 512)         2359808   \n",
      "_________________________________________________________________\n",
      "block5_pool (MaxPooling2D)   (None, 4, 4, 512)         0         \n",
      "=================================================================\n",
      "Total params: 14,714,688\n",
      "Trainable params: 0\n",
      "Non-trainable params: 14,714,688\n",
      "_________________________________________________________________\n"
     ]
    }
   ],
   "source": [
    "conv_base.summary()"
   ]
  },
  {
   "cell_type": "code",
   "execution_count": 32,
   "metadata": {},
   "outputs": [],
   "source": [
    "conv_base.trainable = True\n",
    "\n",
    "set_trainable = False\n",
    "for layer in conv_base.layers:\n",
    "    if layer.name == 'block5_conv1':\n",
    "        set_trainable = True\n",
    "    if set_trainable:\n",
    "        layer.trainable = True\n",
    "    else:\n",
    "        layer.trainable = False"
   ]
  },
  {
   "cell_type": "code",
   "execution_count": 33,
   "metadata": {},
   "outputs": [],
   "source": [
    "model.compile(loss='binary_crossentropy',\n",
    "              optimizer=optimizers.RMSprop(lr=1e-5),\n",
    "              metrics=['acc'])"
   ]
  },
  {
   "cell_type": "code",
   "execution_count": 34,
   "metadata": {
    "scrolled": false
   },
   "outputs": [
    {
     "name": "stdout",
     "output_type": "stream",
     "text": [
      "Epoch 1/100\n",
      "100/100 [==============================] - 251s 3s/step - loss: 0.4220 - acc: 0.8100 - val_loss: 0.2212 - val_acc: 0.9140\n",
      "Epoch 2/100\n",
      "100/100 [==============================] - 253s 3s/step - loss: 0.2745 - acc: 0.8895 - val_loss: 0.1684 - val_acc: 0.9500\n",
      "Epoch 3/100\n",
      "100/100 [==============================] - 252s 3s/step - loss: 0.2244 - acc: 0.9140 - val_loss: 0.1279 - val_acc: 0.9580\n",
      "Epoch 4/100\n",
      "100/100 [==============================] - 252s 3s/step - loss: 0.1904 - acc: 0.9305 - val_loss: 0.1487 - val_acc: 0.9450\n",
      "Epoch 5/100\n",
      "100/100 [==============================] - 253s 3s/step - loss: 0.1979 - acc: 0.9235 - val_loss: 0.1756 - val_acc: 0.9260\n",
      "Epoch 6/100\n",
      "100/100 [==============================] - 253s 3s/step - loss: 0.1887 - acc: 0.9285 - val_loss: 0.0971 - val_acc: 0.9680\n",
      "Epoch 7/100\n",
      "100/100 [==============================] - 252s 3s/step - loss: 0.1570 - acc: 0.9450 - val_loss: 0.1182 - val_acc: 0.9540\n",
      "Epoch 8/100\n",
      "100/100 [==============================] - 252s 3s/step - loss: 0.1783 - acc: 0.9350 - val_loss: 0.1707 - val_acc: 0.9390\n",
      "Epoch 9/100\n",
      "100/100 [==============================] - 252s 3s/step - loss: 0.1498 - acc: 0.9440 - val_loss: 0.1671 - val_acc: 0.9360\n",
      "Epoch 10/100\n",
      "100/100 [==============================] - 252s 3s/step - loss: 0.1490 - acc: 0.9480 - val_loss: 0.1172 - val_acc: 0.9600\n",
      "Epoch 11/100\n",
      "100/100 [==============================] - 252s 3s/step - loss: 0.1649 - acc: 0.9385 - val_loss: 0.1138 - val_acc: 0.9600\n",
      "Epoch 12/100\n",
      "100/100 [==============================] - 252s 3s/step - loss: 0.1480 - acc: 0.9425 - val_loss: 0.1293 - val_acc: 0.9490\n",
      "Epoch 13/100\n",
      "100/100 [==============================] - 252s 3s/step - loss: 0.1350 - acc: 0.9500 - val_loss: 0.1374 - val_acc: 0.9520\n",
      "Epoch 14/100\n",
      "100/100 [==============================] - 252s 3s/step - loss: 0.1549 - acc: 0.9425 - val_loss: 0.0948 - val_acc: 0.9680\n",
      "Epoch 15/100\n",
      "100/100 [==============================] - 252s 3s/step - loss: 0.1433 - acc: 0.9505 - val_loss: 0.0981 - val_acc: 0.9660\n",
      "Epoch 16/100\n",
      "100/100 [==============================] - 252s 3s/step - loss: 0.1382 - acc: 0.9515 - val_loss: 0.0890 - val_acc: 0.9710\n",
      "Epoch 17/100\n",
      "100/100 [==============================] - 253s 3s/step - loss: 0.1257 - acc: 0.9575 - val_loss: 0.0854 - val_acc: 0.9740\n",
      "Epoch 18/100\n",
      "100/100 [==============================] - 253s 3s/step - loss: 0.1267 - acc: 0.9530 - val_loss: 0.1011 - val_acc: 0.9660\n",
      "Epoch 19/100\n",
      "100/100 [==============================] - 253s 3s/step - loss: 0.1195 - acc: 0.9530 - val_loss: 0.1038 - val_acc: 0.9650\n",
      "Epoch 20/100\n",
      "100/100 [==============================] - 252s 3s/step - loss: 0.1330 - acc: 0.9530 - val_loss: 0.0940 - val_acc: 0.9710\n",
      "Epoch 21/100\n",
      "100/100 [==============================] - 252s 3s/step - loss: 0.1327 - acc: 0.9535 - val_loss: 0.0862 - val_acc: 0.9690\n",
      "Epoch 22/100\n",
      "100/100 [==============================] - 252s 3s/step - loss: 0.1255 - acc: 0.9525 - val_loss: 0.1444 - val_acc: 0.9520\n",
      "Epoch 23/100\n",
      "100/100 [==============================] - 252s 3s/step - loss: 0.1281 - acc: 0.9520 - val_loss: 0.1055 - val_acc: 0.9670\n",
      "Epoch 24/100\n",
      "100/100 [==============================] - 252s 3s/step - loss: 0.1299 - acc: 0.9520 - val_loss: 0.0974 - val_acc: 0.9640\n",
      "Epoch 25/100\n",
      "100/100 [==============================] - 253s 3s/step - loss: 0.1171 - acc: 0.9560 - val_loss: 0.0981 - val_acc: 0.9660\n",
      "Epoch 26/100\n",
      "100/100 [==============================] - 254s 3s/step - loss: 0.1064 - acc: 0.9615 - val_loss: 0.0961 - val_acc: 0.9690\n",
      "Epoch 27/100\n",
      "100/100 [==============================] - 252s 3s/step - loss: 0.1127 - acc: 0.9575 - val_loss: 0.0740 - val_acc: 0.9790\n",
      "Epoch 28/100\n",
      "100/100 [==============================] - 252s 3s/step - loss: 0.1069 - acc: 0.9575 - val_loss: 0.1128 - val_acc: 0.9640\n",
      "Epoch 29/100\n",
      "100/100 [==============================] - 253s 3s/step - loss: 0.1035 - acc: 0.9585 - val_loss: 0.0942 - val_acc: 0.9750\n",
      "Epoch 30/100\n",
      "100/100 [==============================] - 253s 3s/step - loss: 0.1448 - acc: 0.9430 - val_loss: 0.1091 - val_acc: 0.9650\n",
      "Epoch 31/100\n",
      "100/100 [==============================] - 252s 3s/step - loss: 0.1246 - acc: 0.9530 - val_loss: 0.0910 - val_acc: 0.9710\n",
      "Epoch 32/100\n",
      "100/100 [==============================] - 252s 3s/step - loss: 0.1055 - acc: 0.9585 - val_loss: 0.0903 - val_acc: 0.9750\n",
      "Epoch 33/100\n",
      "100/100 [==============================] - 252s 3s/step - loss: 0.1055 - acc: 0.9570 - val_loss: 0.0911 - val_acc: 0.9730\n",
      "Epoch 34/100\n",
      "100/100 [==============================] - 252s 3s/step - loss: 0.1161 - acc: 0.9550 - val_loss: 0.1042 - val_acc: 0.9670\n",
      "Epoch 35/100\n",
      "100/100 [==============================] - 252s 3s/step - loss: 0.1087 - acc: 0.9620 - val_loss: 0.0774 - val_acc: 0.9680\n",
      "Epoch 36/100\n",
      "100/100 [==============================] - 251s 3s/step - loss: 0.0979 - acc: 0.9675 - val_loss: 0.1139 - val_acc: 0.9670\n",
      "Epoch 37/100\n",
      "100/100 [==============================] - 251s 3s/step - loss: 0.1116 - acc: 0.9650 - val_loss: 0.0923 - val_acc: 0.9700\n",
      "Epoch 38/100\n",
      "100/100 [==============================] - 252s 3s/step - loss: 0.1179 - acc: 0.9560 - val_loss: 0.0988 - val_acc: 0.9690\n",
      "Epoch 39/100\n",
      "100/100 [==============================] - 252s 3s/step - loss: 0.0924 - acc: 0.9660 - val_loss: 0.1051 - val_acc: 0.9740\n",
      "Epoch 40/100\n",
      "100/100 [==============================] - 252s 3s/step - loss: 0.1088 - acc: 0.9600 - val_loss: 0.0751 - val_acc: 0.9780\n",
      "Epoch 41/100\n",
      "100/100 [==============================] - 251s 3s/step - loss: 0.1181 - acc: 0.9550 - val_loss: 0.0629 - val_acc: 0.9820\n",
      "Epoch 42/100\n",
      "100/100 [==============================] - 251s 3s/step - loss: 0.1081 - acc: 0.9600 - val_loss: 0.1230 - val_acc: 0.9600\n",
      "Epoch 43/100\n",
      "100/100 [==============================] - 252s 3s/step - loss: 0.1073 - acc: 0.9600 - val_loss: 0.0977 - val_acc: 0.9720\n",
      "Epoch 44/100\n",
      "100/100 [==============================] - 252s 3s/step - loss: 0.0950 - acc: 0.9715 - val_loss: 0.0680 - val_acc: 0.9770\n",
      "Epoch 45/100\n",
      "100/100 [==============================] - 252s 3s/step - loss: 0.0971 - acc: 0.9640 - val_loss: 0.0977 - val_acc: 0.9660\n",
      "Epoch 46/100\n",
      "100/100 [==============================] - 252s 3s/step - loss: 0.0989 - acc: 0.9645 - val_loss: 0.0760 - val_acc: 0.9790\n",
      "Epoch 47/100\n",
      "100/100 [==============================] - 252s 3s/step - loss: 0.0928 - acc: 0.9670 - val_loss: 0.1038 - val_acc: 0.9670\n",
      "Epoch 48/100\n",
      "100/100 [==============================] - 252s 3s/step - loss: 0.1016 - acc: 0.9605 - val_loss: 0.0785 - val_acc: 0.9770\n",
      "Epoch 49/100\n",
      "100/100 [==============================] - 252s 3s/step - loss: 0.0942 - acc: 0.9635 - val_loss: 0.0924 - val_acc: 0.9750\n",
      "Epoch 50/100\n",
      "100/100 [==============================] - 252s 3s/step - loss: 0.1100 - acc: 0.9615 - val_loss: 0.0821 - val_acc: 0.9730\n",
      "Epoch 51/100\n",
      "100/100 [==============================] - 252s 3s/step - loss: 0.1116 - acc: 0.9635 - val_loss: 0.0835 - val_acc: 0.9720\n",
      "Epoch 52/100\n",
      "100/100 [==============================] - 252s 3s/step - loss: 0.0954 - acc: 0.9690 - val_loss: 0.0698 - val_acc: 0.9790\n",
      "Epoch 53/100\n",
      "100/100 [==============================] - 252s 3s/step - loss: 0.0909 - acc: 0.9705 - val_loss: 0.0870 - val_acc: 0.9730\n",
      "Epoch 54/100\n",
      "100/100 [==============================] - 252s 3s/step - loss: 0.1139 - acc: 0.9670 - val_loss: 0.0763 - val_acc: 0.9790\n",
      "Epoch 55/100\n",
      "100/100 [==============================] - 252s 3s/step - loss: 0.0883 - acc: 0.9710 - val_loss: 0.0935 - val_acc: 0.9730\n",
      "Epoch 56/100\n",
      "100/100 [==============================] - 252s 3s/step - loss: 0.1006 - acc: 0.9620 - val_loss: 0.0802 - val_acc: 0.9720\n",
      "Epoch 57/100\n",
      "100/100 [==============================] - 252s 3s/step - loss: 0.0955 - acc: 0.9655 - val_loss: 0.0784 - val_acc: 0.9750\n",
      "Epoch 58/100\n",
      "100/100 [==============================] - 252s 3s/step - loss: 0.0962 - acc: 0.9640 - val_loss: 0.0768 - val_acc: 0.9740\n",
      "Epoch 59/100\n",
      "100/100 [==============================] - 252s 3s/step - loss: 0.1085 - acc: 0.9625 - val_loss: 0.0940 - val_acc: 0.9700\n",
      "Epoch 60/100\n",
      "100/100 [==============================] - 252s 3s/step - loss: 0.0828 - acc: 0.9715 - val_loss: 0.1202 - val_acc: 0.9710\n",
      "Epoch 61/100\n",
      "100/100 [==============================] - 252s 3s/step - loss: 0.1015 - acc: 0.9625 - val_loss: 0.0994 - val_acc: 0.9750\n"
     ]
    },
    {
     "name": "stdout",
     "output_type": "stream",
     "text": [
      "Epoch 62/100\n",
      "100/100 [==============================] - 252s 3s/step - loss: 0.1051 - acc: 0.9665 - val_loss: 0.0775 - val_acc: 0.9770\n",
      "Epoch 63/100\n",
      "100/100 [==============================] - 252s 3s/step - loss: 0.1006 - acc: 0.9635 - val_loss: 0.0679 - val_acc: 0.9750\n",
      "Epoch 64/100\n",
      "100/100 [==============================] - 252s 3s/step - loss: 0.0965 - acc: 0.9680 - val_loss: 0.0920 - val_acc: 0.9790\n",
      "Epoch 65/100\n",
      "100/100 [==============================] - 252s 3s/step - loss: 0.0920 - acc: 0.9675 - val_loss: 0.1207 - val_acc: 0.9680\n",
      "Epoch 66/100\n",
      "100/100 [==============================] - 252s 3s/step - loss: 0.0982 - acc: 0.9645 - val_loss: 0.0799 - val_acc: 0.9730\n",
      "Epoch 67/100\n",
      "100/100 [==============================] - 252s 3s/step - loss: 0.0794 - acc: 0.9725 - val_loss: 0.1274 - val_acc: 0.9700\n",
      "Epoch 68/100\n",
      "100/100 [==============================] - 258s 3s/step - loss: 0.0919 - acc: 0.9645 - val_loss: 0.0816 - val_acc: 0.9790\n",
      "Epoch 69/100\n",
      "100/100 [==============================] - 265s 3s/step - loss: 0.0982 - acc: 0.9675 - val_loss: 0.0905 - val_acc: 0.9720\n",
      "Epoch 70/100\n",
      "100/100 [==============================] - 253s 3s/step - loss: 0.0938 - acc: 0.9670 - val_loss: 0.1076 - val_acc: 0.9780\n",
      "Epoch 71/100\n",
      "100/100 [==============================] - 253s 3s/step - loss: 0.0986 - acc: 0.9640 - val_loss: 0.1134 - val_acc: 0.9730\n",
      "Epoch 72/100\n",
      "100/100 [==============================] - 252s 3s/step - loss: 0.0904 - acc: 0.9705 - val_loss: 0.0639 - val_acc: 0.9770\n",
      "Epoch 73/100\n",
      "100/100 [==============================] - 252s 3s/step - loss: 0.0668 - acc: 0.9750 - val_loss: 0.0657 - val_acc: 0.9760\n",
      "Epoch 74/100\n",
      "100/100 [==============================] - 252s 3s/step - loss: 0.0983 - acc: 0.9710 - val_loss: 0.1517 - val_acc: 0.9660\n",
      "Epoch 75/100\n",
      "100/100 [==============================] - 251s 3s/step - loss: 0.0917 - acc: 0.9725 - val_loss: 0.1042 - val_acc: 0.9700\n",
      "Epoch 76/100\n",
      "100/100 [==============================] - 252s 3s/step - loss: 0.1040 - acc: 0.9655 - val_loss: 0.0826 - val_acc: 0.9770\n",
      "Epoch 77/100\n",
      "100/100 [==============================] - 252s 3s/step - loss: 0.0941 - acc: 0.9690 - val_loss: 0.1146 - val_acc: 0.9780\n",
      "Epoch 78/100\n",
      "100/100 [==============================] - 252s 3s/step - loss: 0.1130 - acc: 0.9615 - val_loss: 0.0821 - val_acc: 0.9760\n",
      "Epoch 79/100\n",
      "100/100 [==============================] - 252s 3s/step - loss: 0.0923 - acc: 0.9655 - val_loss: 0.0832 - val_acc: 0.9780\n",
      "Epoch 80/100\n",
      "100/100 [==============================] - 252s 3s/step - loss: 0.0900 - acc: 0.9640 - val_loss: 0.1106 - val_acc: 0.9700\n",
      "Epoch 81/100\n",
      "100/100 [==============================] - 252s 3s/step - loss: 0.0867 - acc: 0.9730 - val_loss: 0.0943 - val_acc: 0.9750\n",
      "Epoch 82/100\n",
      "100/100 [==============================] - 252s 3s/step - loss: 0.0940 - acc: 0.9685 - val_loss: 0.0777 - val_acc: 0.9730\n",
      "Epoch 83/100\n",
      "100/100 [==============================] - 252s 3s/step - loss: 0.0905 - acc: 0.9720 - val_loss: 0.1154 - val_acc: 0.9730\n",
      "Epoch 84/100\n",
      "100/100 [==============================] - 252s 3s/step - loss: 0.1062 - acc: 0.9635 - val_loss: 0.0886 - val_acc: 0.9780\n",
      "Epoch 85/100\n",
      "100/100 [==============================] - 252s 3s/step - loss: 0.0884 - acc: 0.9710 - val_loss: 0.0949 - val_acc: 0.9760\n",
      "Epoch 86/100\n",
      "100/100 [==============================] - 252s 3s/step - loss: 0.0726 - acc: 0.9760 - val_loss: 0.0904 - val_acc: 0.9750\n",
      "Epoch 87/100\n",
      "100/100 [==============================] - 252s 3s/step - loss: 0.0995 - acc: 0.9640 - val_loss: 0.0941 - val_acc: 0.9690\n",
      "Epoch 88/100\n",
      "100/100 [==============================] - 252s 3s/step - loss: 0.0963 - acc: 0.9650 - val_loss: 0.0964 - val_acc: 0.9770\n",
      "Epoch 89/100\n",
      "100/100 [==============================] - 252s 3s/step - loss: 0.0952 - acc: 0.9680 - val_loss: 0.1100 - val_acc: 0.9730\n",
      "Epoch 90/100\n",
      "100/100 [==============================] - 252s 3s/step - loss: 0.0809 - acc: 0.9715 - val_loss: 0.0991 - val_acc: 0.9680\n",
      "Epoch 91/100\n",
      "100/100 [==============================] - 252s 3s/step - loss: 0.0847 - acc: 0.9750 - val_loss: 0.1164 - val_acc: 0.9740\n",
      "Epoch 92/100\n",
      "100/100 [==============================] - 252s 3s/step - loss: 0.0781 - acc: 0.9735 - val_loss: 0.0578 - val_acc: 0.9830\n",
      "Epoch 93/100\n",
      "100/100 [==============================] - 252s 3s/step - loss: 0.0713 - acc: 0.9710 - val_loss: 0.1047 - val_acc: 0.9730\n",
      "Epoch 94/100\n",
      "100/100 [==============================] - 252s 3s/step - loss: 0.0826 - acc: 0.9690 - val_loss: 0.0788 - val_acc: 0.9830\n",
      "Epoch 95/100\n",
      "100/100 [==============================] - 252s 3s/step - loss: 0.1032 - acc: 0.9655 - val_loss: 0.0587 - val_acc: 0.9760\n",
      "Epoch 96/100\n",
      "100/100 [==============================] - 252s 3s/step - loss: 0.1122 - acc: 0.9610 - val_loss: 0.1020 - val_acc: 0.9730\n",
      "Epoch 97/100\n",
      "100/100 [==============================] - 252s 3s/step - loss: 0.0915 - acc: 0.9675 - val_loss: 0.1059 - val_acc: 0.9730\n",
      "Epoch 98/100\n",
      "100/100 [==============================] - 252s 3s/step - loss: 0.1029 - acc: 0.9640 - val_loss: 0.0926 - val_acc: 0.9750\n",
      "Epoch 99/100\n",
      "100/100 [==============================] - 252s 3s/step - loss: 0.0843 - acc: 0.9690 - val_loss: 0.0878 - val_acc: 0.9820\n",
      "Epoch 100/100\n",
      "100/100 [==============================] - 252s 3s/step - loss: 0.0832 - acc: 0.9765 - val_loss: 0.1100 - val_acc: 0.9750\n"
     ]
    }
   ],
   "source": [
    "history = model.fit_generator(\n",
    "      train_generator,\n",
    "      steps_per_epoch=100,\n",
    "      epochs=100,\n",
    "      validation_data=validation_generator,\n",
    "      validation_steps=50)"
   ]
  },
  {
   "cell_type": "code",
   "execution_count": 35,
   "metadata": {},
   "outputs": [],
   "source": [
    "model.save('yatch_tanker_fine_tuning_1.h5')"
   ]
  },
  {
   "cell_type": "code",
   "execution_count": 38,
   "metadata": {},
   "outputs": [
    {
     "data": {
      "image/png": "[encoded data removed]",
      "text/plain": [
       "<Figure size 432x288 with 1 Axes>"
      ]
     },
     "metadata": {
      "needs_background": "light"
     },
     "output_type": "display_data"
    },
    {
     "data": {
      "image/png": "[encoded data removed]",
      "text/plain": [
       "<Figure size 432x288 with 1 Axes>"
      ]
     },
     "metadata": {
      "needs_background": "light"
     },
     "output_type": "display_data"
    }
   ],
   "source": [
    "import matplotlib.pyplot as plt\n",
    "\n",
    "acc = history.history['acc']\n",
    "val_acc = history.history['val_acc']\n",
    "loss = history.history['loss']\n",
    "val_loss = history.history['val_loss']\n",
    "\n",
    "epochs = range(len(acc))\n",
    "\n",
    "plt.plot(epochs, acc, 'bo', label='Training acc')\n",
    "plt.plot(epochs, val_acc, 'b', label='Validation acc')\n",
    "plt.title('Training and validation accuracy')\n",
    "plt.legend()\n",
    "\n",
    "plt.figure()\n",
    "\n",
    "plt.plot(epochs, loss, 'bo', label='Training loss')\n",
    "plt.plot(epochs, val_loss, 'b', label='Validation loss')\n",
    "plt.title('Training and validation loss')\n",
    "plt.legend()\n",
    "\n",
    "plt.show()"
   ]
  },
  {
   "cell_type": "code",
   "execution_count": 39,
   "metadata": {},
   "outputs": [
    {
     "data": {
      "image/png": "[encoded data removed]",
      "text/plain": [
       "<Figure size 432x288 with 1 Axes>"
      ]
     },
     "metadata": {
      "needs_background": "light"
     },
     "output_type": "display_data"
    },
    {
     "data": {
      "image/png": "[encoded data removed]",
      "text/plain": [
       "<Figure size 432x288 with 1 Axes>"
      ]
     },
     "metadata": {
      "needs_background": "light"
     },
     "output_type": "display_data"
    }
   ],
   "source": [
    "\n",
    "def smooth_curve(points, factor=0.8):\n",
    "  smoothed_points = []\n",
    "  for point in points:\n",
    "    if smoothed_points:\n",
    "      previous = smoothed_points[-1]\n",
    "      smoothed_points.append(previous * factor + point * (1 - factor))\n",
    "    else:\n",
    "      smoothed_points.append(point)\n",
    "  return smoothed_points\n",
    "\n",
    "plt.plot(epochs,\n",
    "         smooth_curve(acc), 'bo', label='Smoothed training acc')\n",
    "plt.plot(epochs,\n",
    "         smooth_curve(val_acc), 'b', label='Smoothed validation acc')\n",
    "plt.title('Training and validation accuracy')\n",
    "plt.legend()\n",
    "\n",
    "plt.figure()\n",
    "\n",
    "plt.plot(epochs,\n",
    "         smooth_curve(loss), 'bo', label='Smoothed training loss')\n",
    "plt.plot(epochs,\n",
    "         smooth_curve(val_loss), 'b', label='Smoothed validation loss')\n",
    "plt.title('Training and validation loss')\n",
    "plt.legend()\n",
    "\n",
    "plt.show()"
   ]
  },
  {
   "cell_type": "code",
   "execution_count": 40,
   "metadata": {},
   "outputs": [
    {
     "name": "stdout",
     "output_type": "stream",
     "text": [
      "Found 2000 images belonging to 2 classes.\n",
      "test acc: 0.9779999947547913\n"
     ]
    }
   ],
   "source": [
    "test_generator = test_datagen.flow_from_directory(\n",
    "        test_dir,\n",
    "        target_size=(150, 150),\n",
    "        batch_size=20,\n",
    "        class_mode='binary')\n",
    "\n",
    "test_loss, test_acc = model.evaluate_generator(test_generator, steps=50)\n",
    "print('test acc:', test_acc)"
   ]
  },
  {
   "cell_type": "code",
   "execution_count": null,
   "metadata": {},
   "outputs": [],
   "source": []
  }
 ],
 "metadata": {
  "kernelspec": {
   "display_name": "Python 3",
   "language": "python",
   "name": "python3"
  },
  "language_info": {
   "codemirror_mode": {
    "name": "ipython",
    "version": 3
   },
   "file_extension": ".py",
   "mimetype": "text/x-python",
   "name": "python",
   "nbconvert_exporter": "python",
   "pygments_lexer": "ipython3",
   "version": "3.7.3"
  }
 },
 "nbformat": 4,
 "nbformat_minor": 2
}
