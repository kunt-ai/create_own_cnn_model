{
 "cells": [
  {
   "cell_type": "code",
   "execution_count": 24,
   "metadata": {},
   "outputs": [],
   "source": [
    "import keras\n",
    "from PIL import ImageFile\n",
    "ImageFile.LOAD_TRUNCATED_IMAGES = True\n",
    "keras.__version__\n",
    "from keras.applications import VGG16\n",
    "import os\n",
    "import numpy as np\n",
    "from keras.preprocessing.image import ImageDataGenerator\n",
    "from keras import models\n",
    "from keras import layers\n",
    "from keras import optimizers\n",
    "import matplotlib.pyplot as plt"
   ]
  },
  {
   "cell_type": "code",
   "execution_count": 2,
   "metadata": {},
   "outputs": [
    {
     "name": "stderr",
     "output_type": "stream",
     "text": [
      "WARNING: Logging before flag parsing goes to stderr.\n",
      "W0709 20:54:36.871384 140668730091328 deprecation_wrapper.py:119] From /usr/local/lib/python3.6/dist-packages/keras/backend/tensorflow_backend.py:74: The name tf.get_default_graph is deprecated. Please use tf.compat.v1.get_default_graph instead.\n",
      "\n",
      "W0709 20:54:36.890577 140668730091328 deprecation_wrapper.py:119] From /usr/local/lib/python3.6/dist-packages/keras/backend/tensorflow_backend.py:517: The name tf.placeholder is deprecated. Please use tf.compat.v1.placeholder instead.\n",
      "\n",
      "W0709 20:54:36.893232 140668730091328 deprecation_wrapper.py:119] From /usr/local/lib/python3.6/dist-packages/keras/backend/tensorflow_backend.py:4138: The name tf.random_uniform is deprecated. Please use tf.random.uniform instead.\n",
      "\n",
      "W0709 20:54:36.923034 140668730091328 deprecation_wrapper.py:119] From /usr/local/lib/python3.6/dist-packages/keras/backend/tensorflow_backend.py:3976: The name tf.nn.max_pool is deprecated. Please use tf.nn.max_pool2d instead.\n",
      "\n",
      "W0709 20:54:37.876092 140668730091328 deprecation_wrapper.py:119] From /usr/local/lib/python3.6/dist-packages/keras/backend/tensorflow_backend.py:174: The name tf.get_default_session is deprecated. Please use tf.compat.v1.get_default_session instead.\n",
      "\n",
      "W0709 20:54:37.876971 140668730091328 deprecation_wrapper.py:119] From /usr/local/lib/python3.6/dist-packages/keras/backend/tensorflow_backend.py:181: The name tf.ConfigProto is deprecated. Please use tf.compat.v1.ConfigProto instead.\n",
      "\n"
     ]
    }
   ],
   "source": [
    "conv_base = VGG16(weights='imagenet',\n",
    "                  include_top=False,\n",
    "                  input_shape=(150, 150, 3))"
   ]
  },
  {
   "cell_type": "code",
   "execution_count": 4,
   "metadata": {},
   "outputs": [],
   "source": [
    "base_dir = '/home/jose/Desktop/ship_dataset_6500_1000_625_yacht_tanker'"
   ]
  },
  {
   "cell_type": "code",
   "execution_count": 5,
   "metadata": {},
   "outputs": [],
   "source": [
    "train_dir = os.path.join(base_dir, 'train')\n",
    "validation_dir = os.path.join(base_dir, 'validation')\n",
    "test_dir = os.path.join(base_dir, 'test')"
   ]
  },
  {
   "cell_type": "code",
   "execution_count": 13,
   "metadata": {},
   "outputs": [],
   "source": [
    "model = models.Sequential()\n",
    "model.add(conv_base)\n",
    "model.add(layers.Flatten())\n",
    "\n",
    "model.add(layers.Dense(16, activation='relu'))\n",
    "model.add(layers.Dropout(0.5))\n",
    "model.add(layers.Dense(16, activation='relu'))\n",
    "model.add(layers.Dropout(0.5))\n",
    "\n",
    "model.add(layers.Dense(1, activation='sigmoid'))"
   ]
  },
  {
   "cell_type": "code",
   "execution_count": 14,
   "metadata": {
    "scrolled": true
   },
   "outputs": [
    {
     "name": "stdout",
     "output_type": "stream",
     "text": [
      "_________________________________________________________________\n",
      "Layer (type)                 Output Shape              Param #   \n",
      "=================================================================\n",
      "vgg16 (Model)                (None, 4, 4, 512)         14714688  \n",
      "_________________________________________________________________\n",
      "flatten_3 (Flatten)          (None, 8192)              0         \n",
      "_________________________________________________________________\n",
      "dense_7 (Dense)              (None, 16)                131088    \n",
      "_________________________________________________________________\n",
      "dropout_3 (Dropout)          (None, 16)                0         \n",
      "_________________________________________________________________\n",
      "dense_8 (Dense)              (None, 16)                272       \n",
      "_________________________________________________________________\n",
      "dropout_4 (Dropout)          (None, 16)                0         \n",
      "_________________________________________________________________\n",
      "dense_9 (Dense)              (None, 1)                 17        \n",
      "=================================================================\n",
      "Total params: 14,846,065\n",
      "Trainable params: 14,846,065\n",
      "Non-trainable params: 0\n",
      "_________________________________________________________________\n"
     ]
    }
   ],
   "source": [
    "model.summary()"
   ]
  },
  {
   "cell_type": "code",
   "execution_count": 15,
   "metadata": {},
   "outputs": [],
   "source": [
    "conv_base.trainable = False"
   ]
  },
  {
   "cell_type": "code",
   "execution_count": 16,
   "metadata": {},
   "outputs": [],
   "source": [
    "train_datagen = ImageDataGenerator(\n",
    "      rescale=1./255,\n",
    "      rotation_range=40,\n",
    "      width_shift_range=0.2,\n",
    "      height_shift_range=0.2,\n",
    "      shear_range=0.2,\n",
    "      zoom_range=0.2,\n",
    "      horizontal_flip=True,\n",
    "      fill_mode='nearest')"
   ]
  },
  {
   "cell_type": "code",
   "execution_count": 17,
   "metadata": {},
   "outputs": [],
   "source": [
    "# Note that the validation data should not be augmented!\n",
    "test_datagen = ImageDataGenerator(rescale=1./255)"
   ]
  },
  {
   "cell_type": "code",
   "execution_count": 18,
   "metadata": {},
   "outputs": [
    {
     "name": "stdout",
     "output_type": "stream",
     "text": [
      "Found 13000 images belonging to 2 classes.\n"
     ]
    }
   ],
   "source": [
    "train_generator = train_datagen.flow_from_directory(\n",
    "        # This is the target directory\n",
    "        train_dir,\n",
    "        # All images will be resized to 150x150\n",
    "        target_size=(150, 150),\n",
    "        batch_size=20,\n",
    "        # Since we use binary_crossentropy loss, we need binary labels\n",
    "        class_mode='binary')"
   ]
  },
  {
   "cell_type": "code",
   "execution_count": 19,
   "metadata": {},
   "outputs": [
    {
     "name": "stdout",
     "output_type": "stream",
     "text": [
      "Found 2000 images belonging to 2 classes.\n"
     ]
    }
   ],
   "source": [
    "validation_generator = test_datagen.flow_from_directory(\n",
    "        validation_dir,\n",
    "        target_size=(150, 150),\n",
    "        batch_size=20,\n",
    "        class_mode='binary')"
   ]
  },
  {
   "cell_type": "code",
   "execution_count": 20,
   "metadata": {},
   "outputs": [],
   "source": [
    "model.compile(loss='binary_crossentropy',\n",
    "              optimizer=optimizers.RMSprop(lr=2e-5),\n",
    "              metrics=['acc'])"
   ]
  },
  {
   "cell_type": "code",
   "execution_count": 21,
   "metadata": {},
   "outputs": [
    {
     "name": "stdout",
     "output_type": "stream",
     "text": [
      "Epoch 1/30\n",
      " - 233s - loss: 0.7505 - acc: 0.5010 - val_loss: 0.6925 - val_acc: 0.5410\n",
      "Epoch 2/30\n",
      " - 232s - loss: 0.6920 - acc: 0.5230 - val_loss: 0.6758 - val_acc: 0.6220\n",
      "Epoch 3/30\n",
      " - 220s - loss: 0.6672 - acc: 0.5760 - val_loss: 0.6508 - val_acc: 0.7120\n",
      "Epoch 4/30\n",
      " - 218s - loss: 0.6568 - acc: 0.5715 - val_loss: 0.6247 - val_acc: 0.7510\n",
      "Epoch 5/30\n",
      " - 218s - loss: 0.6439 - acc: 0.6035 - val_loss: 0.6136 - val_acc: 0.7770\n",
      "Epoch 6/30\n",
      " - 218s - loss: 0.6243 - acc: 0.6250 - val_loss: 0.5727 - val_acc: 0.8300\n",
      "Epoch 7/30\n",
      " - 218s - loss: 0.6273 - acc: 0.6205 - val_loss: 0.5821 - val_acc: 0.8120\n",
      "Epoch 8/30\n",
      " - 218s - loss: 0.6136 - acc: 0.6395 - val_loss: 0.5633 - val_acc: 0.8490\n",
      "Epoch 9/30\n",
      " - 218s - loss: 0.6020 - acc: 0.6475 - val_loss: 0.5455 - val_acc: 0.8450\n",
      "Epoch 10/30\n",
      " - 218s - loss: 0.5977 - acc: 0.6620 - val_loss: 0.5287 - val_acc: 0.8660\n",
      "Epoch 11/30\n",
      " - 219s - loss: 0.5862 - acc: 0.6635 - val_loss: 0.5125 - val_acc: 0.8700\n",
      "Epoch 12/30\n",
      " - 218s - loss: 0.5778 - acc: 0.6790 - val_loss: 0.5092 - val_acc: 0.8590\n",
      "Epoch 13/30\n",
      " - 218s - loss: 0.5733 - acc: 0.6765 - val_loss: 0.4912 - val_acc: 0.8730\n",
      "Epoch 14/30\n",
      " - 218s - loss: 0.5864 - acc: 0.6845 - val_loss: 0.4902 - val_acc: 0.8700\n",
      "Epoch 15/30\n",
      " - 219s - loss: 0.5574 - acc: 0.7040 - val_loss: 0.4756 - val_acc: 0.8750\n",
      "Epoch 16/30\n",
      " - 218s - loss: 0.5590 - acc: 0.6930 - val_loss: 0.4774 - val_acc: 0.8710\n",
      "Epoch 17/30\n",
      " - 218s - loss: 0.5501 - acc: 0.7040 - val_loss: 0.4584 - val_acc: 0.8680\n",
      "Epoch 18/30\n",
      " - 219s - loss: 0.5555 - acc: 0.6855 - val_loss: 0.4626 - val_acc: 0.8780\n",
      "Epoch 19/30\n",
      " - 219s - loss: 0.5350 - acc: 0.7110 - val_loss: 0.4399 - val_acc: 0.8820\n",
      "Epoch 20/30\n",
      " - 219s - loss: 0.5417 - acc: 0.7135 - val_loss: 0.4408 - val_acc: 0.8830\n",
      "Epoch 21/30\n",
      " - 218s - loss: 0.5343 - acc: 0.7310 - val_loss: 0.4366 - val_acc: 0.8680\n",
      "Epoch 22/30\n",
      " - 218s - loss: 0.5291 - acc: 0.7260 - val_loss: 0.4174 - val_acc: 0.8940\n",
      "Epoch 23/30\n",
      " - 219s - loss: 0.5180 - acc: 0.7270 - val_loss: 0.4089 - val_acc: 0.8870\n",
      "Epoch 24/30\n",
      " - 218s - loss: 0.5065 - acc: 0.7435 - val_loss: 0.3997 - val_acc: 0.9010\n",
      "Epoch 25/30\n",
      " - 218s - loss: 0.5202 - acc: 0.7390 - val_loss: 0.4000 - val_acc: 0.8900\n",
      "Epoch 26/30\n",
      " - 219s - loss: 0.5303 - acc: 0.7275 - val_loss: 0.4014 - val_acc: 0.8990\n",
      "Epoch 27/30\n",
      " - 218s - loss: 0.5145 - acc: 0.7485 - val_loss: 0.3903 - val_acc: 0.9140\n",
      "Epoch 28/30\n",
      " - 228s - loss: 0.5044 - acc: 0.7640 - val_loss: 0.3789 - val_acc: 0.8990\n",
      "Epoch 29/30\n",
      " - 222s - loss: 0.5176 - acc: 0.7340 - val_loss: 0.3958 - val_acc: 0.9070\n",
      "Epoch 30/30\n",
      " - 222s - loss: 0.5048 - acc: 0.7585 - val_loss: 0.3673 - val_acc: 0.8980\n"
     ]
    }
   ],
   "source": [
    "history = model.fit_generator(\n",
    "      train_generator,\n",
    "      steps_per_epoch=100,\n",
    "      epochs=30,\n",
    "      validation_data=validation_generator,\n",
    "      validation_steps=50,\n",
    "      verbose=2)"
   ]
  },
  {
   "cell_type": "code",
   "execution_count": 22,
   "metadata": {},
   "outputs": [],
   "source": [
    "model.save('overfitting_adding_droupout_feature_extraction_1.h5')"
   ]
  },
  {
   "cell_type": "code",
   "execution_count": 25,
   "metadata": {},
   "outputs": [
    {
     "data": {
      "image/png": "[encoded data removed]",
      "text/plain": [
       "<Figure size 432x288 with 1 Axes>"
      ]
     },
     "metadata": {
      "needs_background": "light"
     },
     "output_type": "display_data"
    },
    {
     "data": {
      "image/png": "[encoded data removed]",
      "text/plain": [
       "<Figure size 432x288 with 1 Axes>"
      ]
     },
     "metadata": {
      "needs_background": "light"
     },
     "output_type": "display_data"
    }
   ],
   "source": [
    "acc = history.history['acc']\n",
    "val_acc = history.history['val_acc']\n",
    "loss = history.history['loss']\n",
    "val_loss = history.history['val_loss']\n",
    "\n",
    "epochs = range(len(acc))\n",
    "\n",
    "plt.plot(epochs, acc, 'bo', label='Training acc')\n",
    "plt.plot(epochs, val_acc, 'b', label='Validation acc')\n",
    "plt.title('Training and validation accuracy')\n",
    "plt.legend()\n",
    "\n",
    "plt.figure()\n",
    "\n",
    "plt.plot(epochs, loss, 'bo', label='Training loss')\n",
    "plt.plot(epochs, val_loss, 'b', label='Validation loss')\n",
    "plt.title('Training and validation loss')\n",
    "plt.legend()\n",
    "\n",
    "plt.show()"
   ]
  },
  {
   "cell_type": "code",
   "execution_count": 26,
   "metadata": {},
   "outputs": [
    {
     "name": "stdout",
     "output_type": "stream",
     "text": [
      "Found 2000 images belonging to 2 classes.\n",
      "test acc: 0.9319999921321869\n"
     ]
    }
   ],
   "source": [
    "test_generator = test_datagen.flow_from_directory(\n",
    "        test_dir,\n",
    "        target_size=(150, 150),\n",
    "        batch_size=20,\n",
    "        class_mode='binary')\n",
    "\n",
    "test_loss, test_acc = model.evaluate_generator(test_generator, steps=50)\n",
    "print('test acc:', test_acc)"
   ]
  },
  {
   "cell_type": "code",
   "execution_count": null,
   "metadata": {},
   "outputs": [],
   "source": []
  }
 ],
 "metadata": {
  "kernelspec": {
   "display_name": "Python 3",
   "language": "python",
   "name": "python3"
  },
  "language_info": {
   "codemirror_mode": {
    "name": "ipython",
    "version": 3
   },
   "file_extension": ".py",
   "mimetype": "text/x-python",
   "name": "python",
   "nbconvert_exporter": "python",
   "pygments_lexer": "ipython3",
   "version": "3.7.3"
  }
 },
 "nbformat": 4,
 "nbformat_minor": 2
}
