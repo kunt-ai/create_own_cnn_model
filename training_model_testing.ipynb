{
 "cells": [
  {
   "cell_type": "code",
   "execution_count": 1,
   "metadata": {},
   "outputs": [
    {
     "name": "stderr",
     "output_type": "stream",
     "text": [
      "Using TensorFlow backend.\n"
     ]
    }
   ],
   "source": [
    "from keras.models import load_model\n",
    "import cv2\n",
    "import numpy as np\n",
    "import seaborn as sns\n",
    "from keras.preprocessing.image import load_img, img_to_array\n",
    "import matplotlib.pyplot as plt\n",
    "import os\n",
    "from PIL import ImageFile\n",
    "ImageFile.LOAD_TRUNCATED_IMAGES = True\n",
    "from keras.preprocessing.image import ImageDataGenerator\n",
    "from keras.layers import Dense, Input, Dropout, GlobalAveragePooling2D, Flatten, Conv2D, BatchNormalization, Activation, MaxPooling2D\n",
    "from keras.models import Model, Sequential\n",
    "from keras.optimizers import Adam\n",
    "from keras.callbacks import ModelCheckpoint\n",
    "import matplotlib.pyplot as plt\n",
    "from sklearn.metrics import confusion_matrix\n",
    "import itertools\n",
    "\n"
   ]
  },
  {
   "cell_type": "code",
   "execution_count": null,
   "metadata": {},
   "outputs": [],
   "source": [
    "base_path = \"/home/jose/Download/ship_dataset_700_135/\"\n",
    "pic_size = 64\n",
    "batch_size = 128\n",
    "\n",
    "model = load_model('model_weights.h5')\n",
    "\n",
    "model.compile(loss='binary_crossentropy',\n",
    "              optimizer='rmsprop',\n",
    "              metrics=['accuracy'])"
   ]
  },
  {
   "cell_type": "code",
   "execution_count": 13,
   "metadata": {},
   "outputs": [],
   "source": [
    "def getKeysByValue(dictOfElements, valueToFind):\n",
    "    listOfKeys = list()\n",
    "    listOfItems = dictOfElements.items()\n",
    "    for item  in listOfItems:\n",
    "        if item[1] == valueToFind:\n",
    "            listOfKeys.append(item[0])\n",
    "    return  listOfKeys"
   ]
  },
  {
   "cell_type": "code",
   "execution_count": 25,
   "metadata": {},
   "outputs": [
    {
     "name": "stdout",
     "output_type": "stream",
     "text": [
      "{'container': 0, 'cruise': 1, 'fishing': 2, 'military': 3, 'tanker': 4}\n",
      "[[0.0000000e+00 8.0039207e-04 9.9919957e-01 3.0009011e-13 0.0000000e+00]]\n",
      "0.99919957\n",
      "2\n",
      "fishing\n"
     ]
    }
   ],
   "source": [
    "import cv2\n",
    "import operator\n",
    "\n",
    "predict_image_path = '../../war.jpg'\n",
    "\n",
    "img = cv2.imread(predict_image_path)\n",
    "img = np.random.randint(0,10,(pic_size,pic_size,1))\n",
    "img.shape\n",
    "img = np.expand_dims(img, axis=0)\n",
    "img.shape\n",
    "\n",
    "predict = model.predict(img)\n",
    "predicted_class_indices = {'container': 0, 'cruise': 1, 'fishing': 2, 'military': 3, 'tanker': 4}\n",
    "print(predicted_class_indices)\n",
    "print(predict)\n",
    "\n",
    "index, value = max(enumerate(predict), key=operator.itemgetter(1))\n",
    "print(max(value))\n",
    "\n",
    "max_predict = predict.argmax(axis=1)[0]\n",
    "print(max_predict)\n",
    "\n",
    "\n",
    "\n",
    "print(getKeysByValue(predicted_class_indices, max_predict)[0])\n"
   ]
  },
  {
   "cell_type": "code",
   "execution_count": 26,
   "metadata": {},
   "outputs": [],
   "source": [
    "import cv2\n",
    "\n",
    "orig = cv2.imread(predict_image_path)\n",
    "cv2.putText(orig, \"Predicted: {}({:.2f})%\".format(getKeysByValue(predicted_class_indices, max_predict)[0], max(value) *100), (10, 30),\n",
    "                cv2.FONT_HERSHEY_PLAIN, 1.5, (43, 99, 255), 2)\n",
    "\n",
    "cv2.imshow(\"Classification\", orig)\n",
    "cv2.waitKey(10000)\n",
    "cv2.destroyAllWindows()"
   ]
  },
  {
   "cell_type": "code",
   "execution_count": null,
   "metadata": {},
   "outputs": [],
   "source": []
  }
 ],
 "metadata": {
  "kernelspec": {
   "display_name": "Python 3",
   "language": "python",
   "name": "python3"
  },
  "language_info": {
   "codemirror_mode": {
    "name": "ipython",
    "version": 2
   },
   "file_extension": ".py",
   "mimetype": "text/x-python",
   "name": "python",
   "nbconvert_exporter": "python",
   "pygments_lexer": "ipython2",
   "version": "2.7.15+"
  }
 },
 "nbformat": 4,
 "nbformat_minor": 2
}
